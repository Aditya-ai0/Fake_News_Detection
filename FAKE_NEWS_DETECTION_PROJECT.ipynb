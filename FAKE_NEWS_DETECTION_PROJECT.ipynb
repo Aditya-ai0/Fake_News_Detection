{
  "nbformat": 4,
  "nbformat_minor": 0,
  "metadata": {
    "colab": {
      "name": "FAKE_NEWS_DETECTION_PROJECT.ipynb",
      "provenance": [],
      "authorship_tag": "ABX9TyM0wR3YkycyA/sYIUuf8PF+",
      "include_colab_link": true
    },
    "kernelspec": {
      "name": "python3",
      "display_name": "Python 3"
    },
    "language_info": {
      "name": "python"
    }
  },
  "cells": [
    {
      "cell_type": "markdown",
      "metadata": {
        "id": "view-in-github",
        "colab_type": "text"
      },
      "source": [
        "<a href=\"https://colab.research.google.com/github/Aditya-ai0/Fake_News_Detection/blob/main/FAKE_NEWS_DETECTION_PROJECT.ipynb\" target=\"_parent\"><img src=\"https://colab.research.google.com/assets/colab-badge.svg\" alt=\"Open In Colab\"/></a>"
      ]
    },
    {
      "cell_type": "markdown",
      "metadata": {
        "id": "85UAK3eF1oGK"
      },
      "source": [
        "# **FAKE NEWS DETECTION USING MACHINE LEARNING**\n",
        "\n",
        "\n",
        "\n",
        "\n"
      ]
    },
    {
      "cell_type": "markdown",
      "metadata": {
        "id": "jCi2f_Ij2kDe"
      },
      "source": [
        "## **Reading the data set**"
      ]
    },
    {
      "cell_type": "code",
      "metadata": {
        "id": "wd35-MuTza1e"
      },
      "source": [
        "import pandas as pd\n",
        "dataframe = pd.read_csv('/content/data.csv')"
      ],
      "execution_count": 21,
      "outputs": []
    },
    {
      "cell_type": "markdown",
      "metadata": {
        "id": "MMA0X_cK2uAl"
      },
      "source": [
        "## **Data Preprocessing**"
      ]
    },
    {
      "cell_type": "markdown",
      "metadata": {
        "id": "Zru4LeKf2UmX"
      },
      "source": [
        "### **data.head() is used to take a general idea of the data set as it shows only first 5 rows of the dataset**"
      ]
    },
    {
      "cell_type": "code",
      "metadata": {
        "colab": {
          "base_uri": "https://localhost:8080/",
          "height": 204
        },
        "id": "-04hwMh20Plw",
        "outputId": "508d062d-8ed9-4c46-bca5-5bf76ad86aed"
      },
      "source": [
        "dataframe.head()"
      ],
      "execution_count": 22,
      "outputs": [
        {
          "output_type": "execute_result",
          "data": {
            "text/html": [
              "<div>\n",
              "<style scoped>\n",
              "    .dataframe tbody tr th:only-of-type {\n",
              "        vertical-align: middle;\n",
              "    }\n",
              "\n",
              "    .dataframe tbody tr th {\n",
              "        vertical-align: top;\n",
              "    }\n",
              "\n",
              "    .dataframe thead th {\n",
              "        text-align: right;\n",
              "    }\n",
              "</style>\n",
              "<table border=\"1\" class=\"dataframe\">\n",
              "  <thead>\n",
              "    <tr style=\"text-align: right;\">\n",
              "      <th></th>\n",
              "      <th>URLs</th>\n",
              "      <th>Headline</th>\n",
              "      <th>Body</th>\n",
              "      <th>Label</th>\n",
              "    </tr>\n",
              "  </thead>\n",
              "  <tbody>\n",
              "    <tr>\n",
              "      <th>0</th>\n",
              "      <td>http://www.bbc.com/news/world-us-canada-414191...</td>\n",
              "      <td>Four ways Bob Corker skewered Donald Trump</td>\n",
              "      <td>Image copyright Getty Images\\nOn Sunday mornin...</td>\n",
              "      <td>1</td>\n",
              "    </tr>\n",
              "    <tr>\n",
              "      <th>1</th>\n",
              "      <td>https://www.reuters.com/article/us-filmfestiva...</td>\n",
              "      <td>Linklater's war veteran comedy speaks to moder...</td>\n",
              "      <td>LONDON (Reuters) - “Last Flag Flying”, a comed...</td>\n",
              "      <td>1</td>\n",
              "    </tr>\n",
              "    <tr>\n",
              "      <th>2</th>\n",
              "      <td>https://www.nytimes.com/2017/10/09/us/politics...</td>\n",
              "      <td>Trump’s Fight With Corker Jeopardizes His Legi...</td>\n",
              "      <td>The feud broke into public view last week when...</td>\n",
              "      <td>1</td>\n",
              "    </tr>\n",
              "    <tr>\n",
              "      <th>3</th>\n",
              "      <td>https://www.reuters.com/article/us-mexico-oil-...</td>\n",
              "      <td>Egypt's Cheiron wins tie-up with Pemex for Mex...</td>\n",
              "      <td>MEXICO CITY (Reuters) - Egypt’s Cheiron Holdin...</td>\n",
              "      <td>1</td>\n",
              "    </tr>\n",
              "    <tr>\n",
              "      <th>4</th>\n",
              "      <td>http://www.cnn.com/videos/cnnmoney/2017/10/08/...</td>\n",
              "      <td>Jason Aldean opens 'SNL' with Vegas tribute</td>\n",
              "      <td>Country singer Jason Aldean, who was performin...</td>\n",
              "      <td>1</td>\n",
              "    </tr>\n",
              "  </tbody>\n",
              "</table>\n",
              "</div>"
            ],
            "text/plain": [
              "                                                URLs  ... Label\n",
              "0  http://www.bbc.com/news/world-us-canada-414191...  ...     1\n",
              "1  https://www.reuters.com/article/us-filmfestiva...  ...     1\n",
              "2  https://www.nytimes.com/2017/10/09/us/politics...  ...     1\n",
              "3  https://www.reuters.com/article/us-mexico-oil-...  ...     1\n",
              "4  http://www.cnn.com/videos/cnnmoney/2017/10/08/...  ...     1\n",
              "\n",
              "[5 rows x 4 columns]"
            ]
          },
          "metadata": {},
          "execution_count": 22
        }
      ]
    },
    {
      "cell_type": "markdown",
      "metadata": {
        "id": "hAg1KVTF3EHZ"
      },
      "source": [
        "### **If we want to check that how many columns do we have in the dataset we use data.columns**"
      ]
    },
    {
      "cell_type": "code",
      "metadata": {
        "colab": {
          "base_uri": "https://localhost:8080/"
        },
        "id": "KleeR9ju0VNv",
        "outputId": "25845214-1cd5-43fc-bdec-da6187714186"
      },
      "source": [
        "dataframe.columns"
      ],
      "execution_count": 23,
      "outputs": [
        {
          "output_type": "execute_result",
          "data": {
            "text/plain": [
              "Index(['URLs', 'Headline', 'Body', 'Label'], dtype='object')"
            ]
          },
          "metadata": {},
          "execution_count": 23
        }
      ]
    },
    {
      "cell_type": "markdown",
      "metadata": {
        "id": "BzmgHS8t3RXC"
      },
      "source": [
        "### **Now if we want to check the shape of the data we use data.shape , it tells about the number of rows and columns present in the data set**"
      ]
    },
    {
      "cell_type": "code",
      "metadata": {
        "colab": {
          "base_uri": "https://localhost:8080/"
        },
        "id": "QqeQlPhY0YqA",
        "outputId": "7dc3f910-e20a-4d95-8e4f-a74fdafd383f"
      },
      "source": [
        "dataframe.shape"
      ],
      "execution_count": 24,
      "outputs": [
        {
          "output_type": "execute_result",
          "data": {
            "text/plain": [
              "(4009, 4)"
            ]
          },
          "metadata": {},
          "execution_count": 24
        }
      ]
    },
    {
      "cell_type": "markdown",
      "metadata": {
        "id": "Dd-8AO2l3hT7"
      },
      "source": [
        "### **data.info() provides the information about the data for eg, about the total number of enteries , number of columns and the data type , is there any null values or not etc**"
      ]
    },
    {
      "cell_type": "code",
      "metadata": {
        "colab": {
          "base_uri": "https://localhost:8080/"
        },
        "id": "HeTfFVh33fqI",
        "outputId": "c704c403-6242-4485-d138-2efd3d5053d1"
      },
      "source": [
        "dataframe.info()"
      ],
      "execution_count": 25,
      "outputs": [
        {
          "output_type": "stream",
          "name": "stdout",
          "text": [
            "<class 'pandas.core.frame.DataFrame'>\n",
            "RangeIndex: 4009 entries, 0 to 4008\n",
            "Data columns (total 4 columns):\n",
            " #   Column    Non-Null Count  Dtype \n",
            "---  ------    --------------  ----- \n",
            " 0   URLs      4009 non-null   object\n",
            " 1   Headline  4009 non-null   object\n",
            " 2   Body      3988 non-null   object\n",
            " 3   Label     4009 non-null   int64 \n",
            "dtypes: int64(1), object(3)\n",
            "memory usage: 125.4+ KB\n"
          ]
        }
      ]
    },
    {
      "cell_type": "markdown",
      "metadata": {
        "id": "bbOv__Rv8F_b"
      },
      "source": [
        "### **Now we are removing ununnecessary columns of the data set using the drop function**"
      ]
    },
    {
      "cell_type": "code",
      "metadata": {
        "id": "H5hwZphH0cqi"
      },
      "source": [
        "dataframe = dataframe.drop([\"URLs\",\"Body\"], axis = 1)"
      ],
      "execution_count": 26,
      "outputs": []
    },
    {
      "cell_type": "code",
      "metadata": {
        "colab": {
          "base_uri": "https://localhost:8080/",
          "height": 418
        },
        "id": "Q-mnOmgo0keN",
        "outputId": "a2aa2c54-5725-4068-cccf-0d6b6a8c45bc"
      },
      "source": [
        "dataframe"
      ],
      "execution_count": 27,
      "outputs": [
        {
          "output_type": "execute_result",
          "data": {
            "text/html": [
              "<div>\n",
              "<style scoped>\n",
              "    .dataframe tbody tr th:only-of-type {\n",
              "        vertical-align: middle;\n",
              "    }\n",
              "\n",
              "    .dataframe tbody tr th {\n",
              "        vertical-align: top;\n",
              "    }\n",
              "\n",
              "    .dataframe thead th {\n",
              "        text-align: right;\n",
              "    }\n",
              "</style>\n",
              "<table border=\"1\" class=\"dataframe\">\n",
              "  <thead>\n",
              "    <tr style=\"text-align: right;\">\n",
              "      <th></th>\n",
              "      <th>Headline</th>\n",
              "      <th>Label</th>\n",
              "    </tr>\n",
              "  </thead>\n",
              "  <tbody>\n",
              "    <tr>\n",
              "      <th>0</th>\n",
              "      <td>Four ways Bob Corker skewered Donald Trump</td>\n",
              "      <td>1</td>\n",
              "    </tr>\n",
              "    <tr>\n",
              "      <th>1</th>\n",
              "      <td>Linklater's war veteran comedy speaks to moder...</td>\n",
              "      <td>1</td>\n",
              "    </tr>\n",
              "    <tr>\n",
              "      <th>2</th>\n",
              "      <td>Trump’s Fight With Corker Jeopardizes His Legi...</td>\n",
              "      <td>1</td>\n",
              "    </tr>\n",
              "    <tr>\n",
              "      <th>3</th>\n",
              "      <td>Egypt's Cheiron wins tie-up with Pemex for Mex...</td>\n",
              "      <td>1</td>\n",
              "    </tr>\n",
              "    <tr>\n",
              "      <th>4</th>\n",
              "      <td>Jason Aldean opens 'SNL' with Vegas tribute</td>\n",
              "      <td>1</td>\n",
              "    </tr>\n",
              "    <tr>\n",
              "      <th>...</th>\n",
              "      <td>...</td>\n",
              "      <td>...</td>\n",
              "    </tr>\n",
              "    <tr>\n",
              "      <th>4004</th>\n",
              "      <td>Trends to Watch</td>\n",
              "      <td>0</td>\n",
              "    </tr>\n",
              "    <tr>\n",
              "      <th>4005</th>\n",
              "      <td>Trump Jr. Is Soon To Give A 30-Minute Speech F...</td>\n",
              "      <td>0</td>\n",
              "    </tr>\n",
              "    <tr>\n",
              "      <th>4006</th>\n",
              "      <td>Ron Paul on Trump, Anarchism &amp; the AltRight</td>\n",
              "      <td>0</td>\n",
              "    </tr>\n",
              "    <tr>\n",
              "      <th>4007</th>\n",
              "      <td>China to accept overseas trial data in bid to ...</td>\n",
              "      <td>1</td>\n",
              "    </tr>\n",
              "    <tr>\n",
              "      <th>4008</th>\n",
              "      <td>Vice President Mike Pence Leaves NFL Game Beca...</td>\n",
              "      <td>0</td>\n",
              "    </tr>\n",
              "  </tbody>\n",
              "</table>\n",
              "<p>4009 rows × 2 columns</p>\n",
              "</div>"
            ],
            "text/plain": [
              "                                               Headline  Label\n",
              "0            Four ways Bob Corker skewered Donald Trump      1\n",
              "1     Linklater's war veteran comedy speaks to moder...      1\n",
              "2     Trump’s Fight With Corker Jeopardizes His Legi...      1\n",
              "3     Egypt's Cheiron wins tie-up with Pemex for Mex...      1\n",
              "4           Jason Aldean opens 'SNL' with Vegas tribute      1\n",
              "...                                                 ...    ...\n",
              "4004                                    Trends to Watch      0\n",
              "4005  Trump Jr. Is Soon To Give A 30-Minute Speech F...      0\n",
              "4006        Ron Paul on Trump, Anarchism & the AltRight      0\n",
              "4007  China to accept overseas trial data in bid to ...      1\n",
              "4008  Vice President Mike Pence Leaves NFL Game Beca...      0\n",
              "\n",
              "[4009 rows x 2 columns]"
            ]
          },
          "metadata": {},
          "execution_count": 27
        }
      ]
    },
    {
      "cell_type": "markdown",
      "metadata": {
        "id": "4r85D9HS8U6I"
      },
      "source": [
        "### **Randomly shuffling the dataframe to minimize bias**"
      ]
    },
    {
      "cell_type": "code",
      "metadata": {
        "id": "KEcgjirE0ghs"
      },
      "source": [
        "dataframe = dataframe.sample(frac =1)"
      ],
      "execution_count": 28,
      "outputs": []
    },
    {
      "cell_type": "code",
      "metadata": {
        "id": "AyYVxTk70r4u"
      },
      "source": [
        "from sklearn.model_selection import train_test_split\n",
        "from sklearn.feature_extraction.text import TfidfVectorizer\n"
      ],
      "execution_count": 36,
      "outputs": []
    },
    {
      "cell_type": "markdown",
      "metadata": {
        "id": "lfSuMsV_8k_t"
      },
      "source": [
        "### **Now here we are having two columns Headline  i.e. text and Label.Now, considering text as X and Label as Y ,so text is independent and Class is dependent because based on our text we can say that whether our news is fake or real**"
      ]
    },
    {
      "cell_type": "code",
      "metadata": {
        "id": "g_YHZE5T032S"
      },
      "source": [
        "x = dataframe[\"Headline\"]\n",
        "y = dataframe[\"Label\"]"
      ],
      "execution_count": 37,
      "outputs": []
    },
    {
      "cell_type": "markdown",
      "metadata": {
        "id": "OqtxzpmA9m5o"
      },
      "source": [
        "### **Splitting the dataset into training and testing set**"
      ]
    },
    {
      "cell_type": "code",
      "metadata": {
        "id": "2FeQSpvj09Es"
      },
      "source": [
        "x_train, x_test, y_train, y_test = train_test_split(x, y, test_size=0.25)"
      ],
      "execution_count": 38,
      "outputs": []
    },
    {
      "cell_type": "markdown",
      "metadata": {
        "id": "wgXSNe6e9ulX"
      },
      "source": [
        "### **Vectorization of texts**"
      ]
    },
    {
      "cell_type": "markdown",
      "metadata": {
        "id": "kYIk32YnAvv7"
      },
      "source": [
        "**TF-IDF algorithm is a combination of two different algorithms namely TF (Term-Frequency) and IDF (Inverse Document Frequency).\n",
        "Term Frequency can be expressed as the probability of occurrence of a term in a document.**\n",
        "\n",
        "**Inverse Document Frequency is the logarithmic value of the inverse probability of the number of documents containing a certain term.**\n",
        "\n",
        "**This function can be used to measure how important a term is in a document, and that can be used to train our model to quantify the weight of that word in deciding the validity of the news.**"
      ]
    },
    {
      "cell_type": "code",
      "metadata": {
        "id": "iCVwTiZ_1An8"
      },
      "source": [
        "vectorization = TfidfVectorizer()\n",
        "xv_train = vectorization.fit_transform(x_train)\n",
        "xv_test = vectorization.transform(x_test)"
      ],
      "execution_count": 39,
      "outputs": []
    },
    {
      "cell_type": "markdown",
      "metadata": {
        "id": "sDwzo6Fa-A1v"
      },
      "source": [
        "### **Logistic Regression Testing**"
      ]
    },
    {
      "cell_type": "code",
      "metadata": {
        "id": "9QrhOyJJ1IpL"
      },
      "source": [
        "from sklearn.linear_model import LogisticRegression"
      ],
      "execution_count": 40,
      "outputs": []
    },
    {
      "cell_type": "code",
      "metadata": {
        "colab": {
          "base_uri": "https://localhost:8080/"
        },
        "id": "xoACD7Sn1EIA",
        "outputId": "ee911f66-e611-48da-c627-e0154c0ac82e"
      },
      "source": [
        "LR = LogisticRegression()\n",
        "LR.fit(xv_train,y_train)"
      ],
      "execution_count": 41,
      "outputs": [
        {
          "output_type": "execute_result",
          "data": {
            "text/plain": [
              "LogisticRegression(C=1.0, class_weight=None, dual=False, fit_intercept=True,\n",
              "                   intercept_scaling=1, l1_ratio=None, max_iter=100,\n",
              "                   multi_class='auto', n_jobs=None, penalty='l2',\n",
              "                   random_state=None, solver='lbfgs', tol=0.0001, verbose=0,\n",
              "                   warm_start=False)"
            ]
          },
          "metadata": {},
          "execution_count": 41
        }
      ]
    },
    {
      "cell_type": "code",
      "metadata": {
        "colab": {
          "base_uri": "https://localhost:8080/"
        },
        "id": "X41Qu7PX1MGp",
        "outputId": "673fd57b-205b-4bf7-852d-999909b08328"
      },
      "source": [
        "LR.score(xv_test, y_test)"
      ],
      "execution_count": 42,
      "outputs": [
        {
          "output_type": "execute_result",
          "data": {
            "text/plain": [
              "0.8265204386839482"
            ]
          },
          "metadata": {},
          "execution_count": 42
        }
      ]
    },
    {
      "cell_type": "markdown",
      "metadata": {
        "id": "q-Nv28hH-QhC"
      },
      "source": [
        "### **Testing**"
      ]
    },
    {
      "cell_type": "code",
      "metadata": {
        "colab": {
          "base_uri": "https://localhost:8080/"
        },
        "id": "HuI6o33C1PiW",
        "outputId": "4573203c-c1f5-4289-a46d-0e32f51fc33e"
      },
      "source": [
        "news = str(input())\n",
        "testing_news = {\"text\":[news]}\n",
        "new_def_test = pd.DataFrame(testing_news)\n",
        "\n",
        "new_x_test = new_def_test[\"text\"]\n",
        "new_xv_test = vectorization.transform(new_x_test)\n",
        "pred_LR = LR.predict(new_xv_test)\n",
        "if pred_LR[0] == 0:\n",
        "  print(\"It is a fake news\")\n",
        "elif pred_LR[0] == 1:\n",
        "  print(\"It is a real news\")"
      ],
      "execution_count": 43,
      "outputs": [
        {
          "output_type": "stream",
          "name": "stdout",
          "text": [
            "Image copyright Getty Images On Sunday morning, Donald Trump went off on a Twitter tirade against a member of his own party. This, in itself, isn't exactly huge news. It's far from the first time the president has turned his rhetorical cannons on his own ranks. This time, however, his attacks were particularly biting and personal. He essentially called Tennessee Senator Bob Corker, the chair of the powerful Senate Foreign Relations Committee, a coward for not running for re-election. He said Mr Corker \"begged\" for the president's endorsement, which he refused to give. He wrongly claimed that Mr Corker's support of the Iranian nuclear agreement was his only political accomplishment. Unlike some of his colleagues, Mr Corker - free from having to worry about his immediate political future - didn't hold his tongue. Skip Twitter post by @SenBobCorker It's a shame the White House has become an adult day care center. Someone obviously missed their shift this morning. — Senator Bob Corker (@SenBobCorker) October 8, 2017 Report That wasn't the end of it, though. He then spoke with the New York Times and really let the president have it. Here are four choice quotes from the Tennessee senator's interview with the Times and why they are particularly damning. \"I don't know why the president tweets out things that are not true. You know he does it, everyone knows he does it, but he does.\" You can't really sugarcoat this one. Mr Corker is flat-out saying the president is a liar - and everyone knows it. The senator, in particular, is challenging Mr Trump's insistence that he unsuccessfully pleaded for his endorsement, but the accusation is much broader. Mr Corker and the president used to be something akin to allies. The Tennessean was on Mr Trump's short list for vice-president and secretary of state. Image copyright Getty Images Image caption Bob Corker at Trump campaign rally in July 2016 Those days are seemingly very much over now - and it's not like Mr Corker is going anywhere anytime soon. Although he's not running for re-election, he'll be in the Senate, chairing a powerful committee, until January 2019. The president's margin for success in that chamber is razor-thin. If Democrats can continue to stand together in opposition, he can afford to lose only two votes out of 52 Republican senators. That's why healthcare reform collapsed in July - and it could be bad news for tax efforts. From here on out, Mr Corker isn't going to do the president any favours. \"Look, except for a few people, the vast majority of our caucus understands what we're dealing with here.\" Frustration in Congress has been growing over what Republicans feel has been the president's inability to focus on advancing their agenda. Getting a sharply divided party to come together on plans to repeal Obamacare, reform taxes or boost infrastructure spending is challenging enough. Doing so when the president stirs up unrelated controversies on a seemingly daily basis makes things all the harder. One of the president's gifts has been his ability to shake off negative stories by quickly moving on to a different subject. That worked brilliantly during his presidential campaign, but it's less effective during the legislative slow grind. Image copyright Getty Images Image caption Corker at the confirmation hearing for Secretary of State Rex Tillerson For months, Republicans in Congress have been grumbling about this in the background and among themselves. Occasionally, someone like Mr McConnell will lament that the president doesn't understand how the Senate works. Mr Corker has now stated it loud and clear. And, what's more, he says almost everyone agrees with him. They've kept silent until now because they still hope to pass conservative legislation that the president can sign or fear Mr Trump's legions will back a primary challenge next year or stay home during the general election. If that calculus ever changes - if it becomes riskier to stay silent than speak out - Mr Trump will be in real trouble. \"A lot of people think that there is some kind of 'good cop, bad cop' act underway, but that's just not true.\" Time and again, Mr Trump has appeared to undercut Secretary of State Rex Tillerson and others in his administration who are attempting to use soft diplomacy to deal with a range of international crises. The war against the Taliban in Afghanistan, Iran's compliance with the multinational nuclear agreement, the ongoing dispute between Qatar and its Persian Gulf neighbours, the unrest in Venezuela and, most recently, North Korea's continued ballistic missile tests have all been the target of the president's offhand remarks and Twitter invective. Some administration defenders have said this is all a part of Mr Trump's strategy - an updated version of the Nixon-era \"madman theory\", in which the president forces adversaries to give way because they fear an unpredictable US leader's actions. Mr Corker isn't buying it. There's no strategy, he says, just the possibility of chaos - which he hopes Mr Trump's senior advisers will be able to avoid. \"I know for a fact that every single day at the White House, it's a situation of trying to contain him.\" There's now a growing collection of John Kelly face-palm photos that serve as a testament to the chief-of-staff's reported frustration at dealing with the president. Mr Trump goes off-script to praise torch-bearing white nationalists at a rally in Charlottesville, and Mr Kelly is captured closing his eyes and rubbing the arch of his nose, as if attempting to stave off a migraine. Image copyright Reuters Image caption White House Chief of Staff John Kelly looks on as US President Donald Trump speaks at a campaign rally The president calls North Korean leaders \"criminals\" in a speech to the United Nations, and Mr Kelly straight-up buries his face in his hands. The White House communications team is often left scrambling to try to explain or reframe an indelicate presidential \"joke\" or remark that directly contradicts what was until then the official administration line. Even though Mr Kelly has brought some discipline to the West Wing staff, the president still marches to the beat of his own drum - and continues to have unfettered access to his phone's Twitter app. Bob Corker is only the latest person - politician, journalist, sports star or celebrity - to feel the mercurial president's uncontainable ire.\n",
            "It is a fake news\n"
          ]
        }
      ]
    },
    {
      "cell_type": "code",
      "metadata": {
        "colab": {
          "base_uri": "https://localhost:8080/"
        },
        "id": "L7bjclrb_2dy",
        "outputId": "a9081a44-6b22-4d0f-8155-388d456ea0df"
      },
      "source": [
        "news = str(input())\n",
        "testing_news = {\"text\":[news]}\n",
        "new_def_test = pd.DataFrame(testing_news)\n",
        "\n",
        "new_x_test = new_def_test[\"text\"]\n",
        "new_xv_test = vectorization.transform(new_x_test)\n",
        "pred_LR = LR.predict(new_xv_test)\n",
        "if pred_LR[0] == 0:\n",
        "  print(\"It is a fake news\")\n",
        "elif pred_LR[0] == 1:\n",
        "  print(\"It is a real news\")"
      ],
      "execution_count": 46,
      "outputs": [
        {
          "output_type": "stream",
          "name": "stdout",
          "text": [
            "Kenya's President Uhuru Kenyatta (front) and his Deputy William Ruto deliver a statement to members of the media at the State House in Nairobi, Kenya September 21, 2017. REUTERS/Baz Ratner NAIROBI (Reuters) - Kenyan opposition leader Raila Odinga withdrew on Tuesday from a court-ordered re-run of the presidential election due on Oct. 26, saying the vote would not be free or fair and leaving President Uhuru Kenyatta as the only candidate.\n",
            "It is a fake news\n"
          ]
        }
      ]
    }
  ]
}