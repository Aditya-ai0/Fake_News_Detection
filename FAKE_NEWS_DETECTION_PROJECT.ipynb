{
  "nbformat": 4,
  "nbformat_minor": 0,
  "metadata": {
    "colab": {
      "name": "FAKE_NEWS_DETECTION_PROJECT.ipynb",
      "provenance": [],
      "collapsed_sections": [],
      "authorship_tag": "ABX9TyOFCWGMQhBJokdIpgOSXkE7",
      "include_colab_link": true
    },
    "kernelspec": {
      "name": "python3",
      "display_name": "Python 3"
    },
    "language_info": {
      "name": "python"
    }
  },
  "cells": [
    {
      "cell_type": "markdown",
      "metadata": {
        "id": "view-in-github",
        "colab_type": "text"
      },
      "source": [
        "<a href=\"https://colab.research.google.com/github/Aditya-ai0/Fake_News_Detection/blob/main/FAKE_NEWS_DETECTION_PROJECT.ipynb\" target=\"_parent\"><img src=\"https://colab.research.google.com/assets/colab-badge.svg\" alt=\"Open In Colab\"/></a>"
      ]
    },
    {
      "cell_type": "markdown",
      "metadata": {
        "id": "85UAK3eF1oGK"
      },
      "source": [
        "# **FAKE NEWS DETECTION USING MACHINE LEARNING**\n",
        "\n",
        "\n",
        "\n",
        "\n"
      ]
    },
    {
      "cell_type": "markdown",
      "metadata": {
        "id": "jCi2f_Ij2kDe"
      },
      "source": [
        "## **Reading the data set**"
      ]
    },
    {
      "cell_type": "code",
      "metadata": {
        "id": "wd35-MuTza1e"
      },
      "source": [
        "import pandas as pd\n",
        "dataframe = pd.read_csv('/content/data.csv')"
      ],
      "execution_count": 21,
      "outputs": []
    },
    {
      "cell_type": "markdown",
      "metadata": {
        "id": "MMA0X_cK2uAl"
      },
      "source": [
        "## **Data Preprocessing**"
      ]
    },
    {
      "cell_type": "markdown",
      "metadata": {
        "id": "Zru4LeKf2UmX"
      },
      "source": [
        "### **data.head() is used to take a general idea of the data set as it shows only first 5 rows of the dataset**"
      ]
    },
    {
      "cell_type": "code",
      "metadata": {
        "colab": {
          "base_uri": "https://localhost:8080/",
          "height": 204
        },
        "id": "-04hwMh20Plw",
        "outputId": "508d062d-8ed9-4c46-bca5-5bf76ad86aed"
      },
      "source": [
        "dataframe.head()"
      ],
      "execution_count": 22,
      "outputs": [
        {
          "output_type": "execute_result",
          "data": {
            "text/html": [
              "<div>\n",
              "<style scoped>\n",
              "    .dataframe tbody tr th:only-of-type {\n",
              "        vertical-align: middle;\n",
              "    }\n",
              "\n",
              "    .dataframe tbody tr th {\n",
              "        vertical-align: top;\n",
              "    }\n",
              "\n",
              "    .dataframe thead th {\n",
              "        text-align: right;\n",
              "    }\n",
              "</style>\n",
              "<table border=\"1\" class=\"dataframe\">\n",
              "  <thead>\n",
              "    <tr style=\"text-align: right;\">\n",
              "      <th></th>\n",
              "      <th>URLs</th>\n",
              "      <th>Headline</th>\n",
              "      <th>Body</th>\n",
              "      <th>Label</th>\n",
              "    </tr>\n",
              "  </thead>\n",
              "  <tbody>\n",
              "    <tr>\n",
              "      <th>0</th>\n",
              "      <td>http://www.bbc.com/news/world-us-canada-414191...</td>\n",
              "      <td>Four ways Bob Corker skewered Donald Trump</td>\n",
              "      <td>Image copyright Getty Images\\nOn Sunday mornin...</td>\n",
              "      <td>1</td>\n",
              "    </tr>\n",
              "    <tr>\n",
              "      <th>1</th>\n",
              "      <td>https://www.reuters.com/article/us-filmfestiva...</td>\n",
              "      <td>Linklater's war veteran comedy speaks to moder...</td>\n",
              "      <td>LONDON (Reuters) - “Last Flag Flying”, a comed...</td>\n",
              "      <td>1</td>\n",
              "    </tr>\n",
              "    <tr>\n",
              "      <th>2</th>\n",
              "      <td>https://www.nytimes.com/2017/10/09/us/politics...</td>\n",
              "      <td>Trump’s Fight With Corker Jeopardizes His Legi...</td>\n",
              "      <td>The feud broke into public view last week when...</td>\n",
              "      <td>1</td>\n",
              "    </tr>\n",
              "    <tr>\n",
              "      <th>3</th>\n",
              "      <td>https://www.reuters.com/article/us-mexico-oil-...</td>\n",
              "      <td>Egypt's Cheiron wins tie-up with Pemex for Mex...</td>\n",
              "      <td>MEXICO CITY (Reuters) - Egypt’s Cheiron Holdin...</td>\n",
              "      <td>1</td>\n",
              "    </tr>\n",
              "    <tr>\n",
              "      <th>4</th>\n",
              "      <td>http://www.cnn.com/videos/cnnmoney/2017/10/08/...</td>\n",
              "      <td>Jason Aldean opens 'SNL' with Vegas tribute</td>\n",
              "      <td>Country singer Jason Aldean, who was performin...</td>\n",
              "      <td>1</td>\n",
              "    </tr>\n",
              "  </tbody>\n",
              "</table>\n",
              "</div>"
            ],
            "text/plain": [
              "                                                URLs  ... Label\n",
              "0  http://www.bbc.com/news/world-us-canada-414191...  ...     1\n",
              "1  https://www.reuters.com/article/us-filmfestiva...  ...     1\n",
              "2  https://www.nytimes.com/2017/10/09/us/politics...  ...     1\n",
              "3  https://www.reuters.com/article/us-mexico-oil-...  ...     1\n",
              "4  http://www.cnn.com/videos/cnnmoney/2017/10/08/...  ...     1\n",
              "\n",
              "[5 rows x 4 columns]"
            ]
          },
          "metadata": {},
          "execution_count": 22
        }
      ]
    },
    {
      "cell_type": "markdown",
      "metadata": {
        "id": "hAg1KVTF3EHZ"
      },
      "source": [
        "### **If we want to check that how many columns do we have in the dataset we use data.columns**"
      ]
    },
    {
      "cell_type": "code",
      "metadata": {
        "colab": {
          "base_uri": "https://localhost:8080/"
        },
        "id": "KleeR9ju0VNv",
        "outputId": "25845214-1cd5-43fc-bdec-da6187714186"
      },
      "source": [
        "dataframe.columns"
      ],
      "execution_count": 23,
      "outputs": [
        {
          "output_type": "execute_result",
          "data": {
            "text/plain": [
              "Index(['URLs', 'Headline', 'Body', 'Label'], dtype='object')"
            ]
          },
          "metadata": {},
          "execution_count": 23
        }
      ]
    },
    {
      "cell_type": "markdown",
      "metadata": {
        "id": "BzmgHS8t3RXC"
      },
      "source": [
        "### **Now if we want to check the shape of the data we use data.shape , it tells about the number of rows and columns present in the data set**"
      ]
    },
    {
      "cell_type": "code",
      "metadata": {
        "colab": {
          "base_uri": "https://localhost:8080/"
        },
        "id": "QqeQlPhY0YqA",
        "outputId": "7dc3f910-e20a-4d95-8e4f-a74fdafd383f"
      },
      "source": [
        "dataframe.shape"
      ],
      "execution_count": 24,
      "outputs": [
        {
          "output_type": "execute_result",
          "data": {
            "text/plain": [
              "(4009, 4)"
            ]
          },
          "metadata": {},
          "execution_count": 24
        }
      ]
    },
    {
      "cell_type": "markdown",
      "metadata": {
        "id": "Dd-8AO2l3hT7"
      },
      "source": [
        "### **data.info() provides the information about the data for eg, about the total number of enteries , number of columns and the data type , is there any null values or not etc**"
      ]
    },
    {
      "cell_type": "code",
      "metadata": {
        "colab": {
          "base_uri": "https://localhost:8080/"
        },
        "id": "HeTfFVh33fqI",
        "outputId": "c704c403-6242-4485-d138-2efd3d5053d1"
      },
      "source": [
        "dataframe.info()"
      ],
      "execution_count": 25,
      "outputs": [
        {
          "output_type": "stream",
          "name": "stdout",
          "text": [
            "<class 'pandas.core.frame.DataFrame'>\n",
            "RangeIndex: 4009 entries, 0 to 4008\n",
            "Data columns (total 4 columns):\n",
            " #   Column    Non-Null Count  Dtype \n",
            "---  ------    --------------  ----- \n",
            " 0   URLs      4009 non-null   object\n",
            " 1   Headline  4009 non-null   object\n",
            " 2   Body      3988 non-null   object\n",
            " 3   Label     4009 non-null   int64 \n",
            "dtypes: int64(1), object(3)\n",
            "memory usage: 125.4+ KB\n"
          ]
        }
      ]
    },
    {
      "cell_type": "markdown",
      "metadata": {
        "id": "bbOv__Rv8F_b"
      },
      "source": [
        "### **Now we are removing ununnecessary columns of the data set using the drop function**"
      ]
    },
    {
      "cell_type": "code",
      "metadata": {
        "id": "H5hwZphH0cqi"
      },
      "source": [
        "dataframe = dataframe.drop([\"URLs\",\"Body\"], axis = 1)"
      ],
      "execution_count": 26,
      "outputs": []
    },
    {
      "cell_type": "code",
      "metadata": {
        "colab": {
          "base_uri": "https://localhost:8080/",
          "height": 418
        },
        "id": "Q-mnOmgo0keN",
        "outputId": "a2aa2c54-5725-4068-cccf-0d6b6a8c45bc"
      },
      "source": [
        "dataframe"
      ],
      "execution_count": 27,
      "outputs": [
        {
          "output_type": "execute_result",
          "data": {
            "text/html": [
              "<div>\n",
              "<style scoped>\n",
              "    .dataframe tbody tr th:only-of-type {\n",
              "        vertical-align: middle;\n",
              "    }\n",
              "\n",
              "    .dataframe tbody tr th {\n",
              "        vertical-align: top;\n",
              "    }\n",
              "\n",
              "    .dataframe thead th {\n",
              "        text-align: right;\n",
              "    }\n",
              "</style>\n",
              "<table border=\"1\" class=\"dataframe\">\n",
              "  <thead>\n",
              "    <tr style=\"text-align: right;\">\n",
              "      <th></th>\n",
              "      <th>Headline</th>\n",
              "      <th>Label</th>\n",
              "    </tr>\n",
              "  </thead>\n",
              "  <tbody>\n",
              "    <tr>\n",
              "      <th>0</th>\n",
              "      <td>Four ways Bob Corker skewered Donald Trump</td>\n",
              "      <td>1</td>\n",
              "    </tr>\n",
              "    <tr>\n",
              "      <th>1</th>\n",
              "      <td>Linklater's war veteran comedy speaks to moder...</td>\n",
              "      <td>1</td>\n",
              "    </tr>\n",
              "    <tr>\n",
              "      <th>2</th>\n",
              "      <td>Trump’s Fight With Corker Jeopardizes His Legi...</td>\n",
              "      <td>1</td>\n",
              "    </tr>\n",
              "    <tr>\n",
              "      <th>3</th>\n",
              "      <td>Egypt's Cheiron wins tie-up with Pemex for Mex...</td>\n",
              "      <td>1</td>\n",
              "    </tr>\n",
              "    <tr>\n",
              "      <th>4</th>\n",
              "      <td>Jason Aldean opens 'SNL' with Vegas tribute</td>\n",
              "      <td>1</td>\n",
              "    </tr>\n",
              "    <tr>\n",
              "      <th>...</th>\n",
              "      <td>...</td>\n",
              "      <td>...</td>\n",
              "    </tr>\n",
              "    <tr>\n",
              "      <th>4004</th>\n",
              "      <td>Trends to Watch</td>\n",
              "      <td>0</td>\n",
              "    </tr>\n",
              "    <tr>\n",
              "      <th>4005</th>\n",
              "      <td>Trump Jr. Is Soon To Give A 30-Minute Speech F...</td>\n",
              "      <td>0</td>\n",
              "    </tr>\n",
              "    <tr>\n",
              "      <th>4006</th>\n",
              "      <td>Ron Paul on Trump, Anarchism &amp; the AltRight</td>\n",
              "      <td>0</td>\n",
              "    </tr>\n",
              "    <tr>\n",
              "      <th>4007</th>\n",
              "      <td>China to accept overseas trial data in bid to ...</td>\n",
              "      <td>1</td>\n",
              "    </tr>\n",
              "    <tr>\n",
              "      <th>4008</th>\n",
              "      <td>Vice President Mike Pence Leaves NFL Game Beca...</td>\n",
              "      <td>0</td>\n",
              "    </tr>\n",
              "  </tbody>\n",
              "</table>\n",
              "<p>4009 rows × 2 columns</p>\n",
              "</div>"
            ],
            "text/plain": [
              "                                               Headline  Label\n",
              "0            Four ways Bob Corker skewered Donald Trump      1\n",
              "1     Linklater's war veteran comedy speaks to moder...      1\n",
              "2     Trump’s Fight With Corker Jeopardizes His Legi...      1\n",
              "3     Egypt's Cheiron wins tie-up with Pemex for Mex...      1\n",
              "4           Jason Aldean opens 'SNL' with Vegas tribute      1\n",
              "...                                                 ...    ...\n",
              "4004                                    Trends to Watch      0\n",
              "4005  Trump Jr. Is Soon To Give A 30-Minute Speech F...      0\n",
              "4006        Ron Paul on Trump, Anarchism & the AltRight      0\n",
              "4007  China to accept overseas trial data in bid to ...      1\n",
              "4008  Vice President Mike Pence Leaves NFL Game Beca...      0\n",
              "\n",
              "[4009 rows x 2 columns]"
            ]
          },
          "metadata": {},
          "execution_count": 27
        }
      ]
    },
    {
      "cell_type": "markdown",
      "metadata": {
        "id": "4r85D9HS8U6I"
      },
      "source": [
        "### **Randomly shuffling the dataframe to minimize bias**"
      ]
    },
    {
      "cell_type": "code",
      "metadata": {
        "id": "KEcgjirE0ghs"
      },
      "source": [
        "dataframe = dataframe.sample(frac =1)"
      ],
      "execution_count": 28,
      "outputs": []
    },
    {
      "cell_type": "code",
      "metadata": {
        "colab": {
          "base_uri": "https://localhost:8080/",
          "height": 418
        },
        "id": "N7I1KyzpC6Oi",
        "outputId": "c82e81a0-76df-4590-b6b6-eb46dd7e46e6"
      },
      "source": [
        "dataframe"
      ],
      "execution_count": 47,
      "outputs": [
        {
          "output_type": "execute_result",
          "data": {
            "text/html": [
              "<div>\n",
              "<style scoped>\n",
              "    .dataframe tbody tr th:only-of-type {\n",
              "        vertical-align: middle;\n",
              "    }\n",
              "\n",
              "    .dataframe tbody tr th {\n",
              "        vertical-align: top;\n",
              "    }\n",
              "\n",
              "    .dataframe thead th {\n",
              "        text-align: right;\n",
              "    }\n",
              "</style>\n",
              "<table border=\"1\" class=\"dataframe\">\n",
              "  <thead>\n",
              "    <tr style=\"text-align: right;\">\n",
              "      <th></th>\n",
              "      <th>Headline</th>\n",
              "      <th>Label</th>\n",
              "    </tr>\n",
              "  </thead>\n",
              "  <tbody>\n",
              "    <tr>\n",
              "      <th>3241</th>\n",
              "      <td>Let's paint about sex: racy feminist artists e...</td>\n",
              "      <td>1</td>\n",
              "    </tr>\n",
              "    <tr>\n",
              "      <th>2795</th>\n",
              "      <td>Highlighting Vietnam War's relevance, exhibit ...</td>\n",
              "      <td>1</td>\n",
              "    </tr>\n",
              "    <tr>\n",
              "      <th>2426</th>\n",
              "      <td>Brazil studying extradition of Italian ex-left...</td>\n",
              "      <td>1</td>\n",
              "    </tr>\n",
              "    <tr>\n",
              "      <th>3390</th>\n",
              "      <td>Exclusive: Alphabet's Waymo demanded $1 billio...</td>\n",
              "      <td>1</td>\n",
              "    </tr>\n",
              "    <tr>\n",
              "      <th>2001</th>\n",
              "      <td>Trump boasts about brain, belittles Tillerson</td>\n",
              "      <td>1</td>\n",
              "    </tr>\n",
              "    <tr>\n",
              "      <th>...</th>\n",
              "      <td>...</td>\n",
              "      <td>...</td>\n",
              "    </tr>\n",
              "    <tr>\n",
              "      <th>1925</th>\n",
              "      <td>North Koreans process salmon, snow crab eaten ...</td>\n",
              "      <td>1</td>\n",
              "    </tr>\n",
              "    <tr>\n",
              "      <th>2839</th>\n",
              "      <td>Top 75 Asian Innovative Universities Methodology</td>\n",
              "      <td>1</td>\n",
              "    </tr>\n",
              "    <tr>\n",
              "      <th>2492</th>\n",
              "      <td>Fukushima court rules Tepco, government liable...</td>\n",
              "      <td>1</td>\n",
              "    </tr>\n",
              "    <tr>\n",
              "      <th>3097</th>\n",
              "      <td>To \"Help\" Residents Repair Homes After Irma, G...</td>\n",
              "      <td>0</td>\n",
              "    </tr>\n",
              "    <tr>\n",
              "      <th>3409</th>\n",
              "      <td>White nationalists return to Charlottesville</td>\n",
              "      <td>1</td>\n",
              "    </tr>\n",
              "  </tbody>\n",
              "</table>\n",
              "<p>4009 rows × 2 columns</p>\n",
              "</div>"
            ],
            "text/plain": [
              "                                               Headline  Label\n",
              "3241  Let's paint about sex: racy feminist artists e...      1\n",
              "2795  Highlighting Vietnam War's relevance, exhibit ...      1\n",
              "2426  Brazil studying extradition of Italian ex-left...      1\n",
              "3390  Exclusive: Alphabet's Waymo demanded $1 billio...      1\n",
              "2001      Trump boasts about brain, belittles Tillerson      1\n",
              "...                                                 ...    ...\n",
              "1925  North Koreans process salmon, snow crab eaten ...      1\n",
              "2839   Top 75 Asian Innovative Universities Methodology      1\n",
              "2492  Fukushima court rules Tepco, government liable...      1\n",
              "3097  To \"Help\" Residents Repair Homes After Irma, G...      0\n",
              "3409       White nationalists return to Charlottesville      1\n",
              "\n",
              "[4009 rows x 2 columns]"
            ]
          },
          "metadata": {},
          "execution_count": 47
        }
      ]
    },
    {
      "cell_type": "code",
      "metadata": {
        "id": "AyYVxTk70r4u"
      },
      "source": [
        "from sklearn.model_selection import train_test_split\n",
        "from sklearn.feature_extraction.text import TfidfVectorizer\n"
      ],
      "execution_count": 36,
      "outputs": []
    },
    {
      "cell_type": "markdown",
      "metadata": {
        "id": "lfSuMsV_8k_t"
      },
      "source": [
        "### **Now here we are having two columns Headline  i.e. text and Label.Now, considering text as X and Label as Y ,so text is independent and Class is dependent because based on our text we can say that whether our news is fake or real**"
      ]
    },
    {
      "cell_type": "code",
      "metadata": {
        "id": "g_YHZE5T032S"
      },
      "source": [
        "x = dataframe[\"Headline\"]\n",
        "y = dataframe[\"Label\"]"
      ],
      "execution_count": 37,
      "outputs": []
    },
    {
      "cell_type": "markdown",
      "metadata": {
        "id": "OqtxzpmA9m5o"
      },
      "source": [
        "### **Splitting the dataset into training and testing set**"
      ]
    },
    {
      "cell_type": "code",
      "metadata": {
        "id": "2FeQSpvj09Es"
      },
      "source": [
        "x_train, x_test, y_train, y_test = train_test_split(x, y, test_size=0.25)"
      ],
      "execution_count": 38,
      "outputs": []
    },
    {
      "cell_type": "markdown",
      "metadata": {
        "id": "wgXSNe6e9ulX"
      },
      "source": [
        "### **Vectorization of texts**"
      ]
    },
    {
      "cell_type": "markdown",
      "metadata": {
        "id": "kYIk32YnAvv7"
      },
      "source": [
        "**TF-IDF algorithm is a combination of two different algorithms namely TF (Term-Frequency) and IDF (Inverse Document Frequency).\n",
        "Term Frequency can be expressed as the probability of occurrence of a term in a document.**\n",
        "\n",
        "**Inverse Document Frequency is the logarithmic value of the inverse probability of the number of documents containing a certain term.**\n",
        "\n",
        "**This function can be used to measure how important a term is in a document, and that can be used to train our model to quantify the weight of that word in deciding the validity of the news.**"
      ]
    },
    {
      "cell_type": "code",
      "metadata": {
        "id": "iCVwTiZ_1An8"
      },
      "source": [
        "vectorization = TfidfVectorizer()\n",
        "xv_train = vectorization.fit_transform(x_train)\n",
        "xv_test = vectorization.transform(x_test)"
      ],
      "execution_count": 39,
      "outputs": []
    },
    {
      "cell_type": "markdown",
      "metadata": {
        "id": "sDwzo6Fa-A1v"
      },
      "source": [
        "### **Logistic Regression Testing**"
      ]
    },
    {
      "cell_type": "code",
      "metadata": {
        "id": "9QrhOyJJ1IpL"
      },
      "source": [
        "from sklearn.linear_model import LogisticRegression"
      ],
      "execution_count": 40,
      "outputs": []
    },
    {
      "cell_type": "code",
      "metadata": {
        "colab": {
          "base_uri": "https://localhost:8080/"
        },
        "id": "xoACD7Sn1EIA",
        "outputId": "ee911f66-e611-48da-c627-e0154c0ac82e"
      },
      "source": [
        "LR = LogisticRegression()\n",
        "LR.fit(xv_train,y_train)"
      ],
      "execution_count": 41,
      "outputs": [
        {
          "output_type": "execute_result",
          "data": {
            "text/plain": [
              "LogisticRegression(C=1.0, class_weight=None, dual=False, fit_intercept=True,\n",
              "                   intercept_scaling=1, l1_ratio=None, max_iter=100,\n",
              "                   multi_class='auto', n_jobs=None, penalty='l2',\n",
              "                   random_state=None, solver='lbfgs', tol=0.0001, verbose=0,\n",
              "                   warm_start=False)"
            ]
          },
          "metadata": {},
          "execution_count": 41
        }
      ]
    },
    {
      "cell_type": "code",
      "metadata": {
        "colab": {
          "base_uri": "https://localhost:8080/"
        },
        "id": "X41Qu7PX1MGp",
        "outputId": "673fd57b-205b-4bf7-852d-999909b08328"
      },
      "source": [
        "LR.score(xv_test, y_test)"
      ],
      "execution_count": 42,
      "outputs": [
        {
          "output_type": "execute_result",
          "data": {
            "text/plain": [
              "0.8265204386839482"
            ]
          },
          "metadata": {},
          "execution_count": 42
        }
      ]
    },
    {
      "cell_type": "markdown",
      "metadata": {
        "id": "q-Nv28hH-QhC"
      },
      "source": [
        "### **Testing**"
      ]
    },
    {
      "cell_type": "code",
      "metadata": {
        "colab": {
          "base_uri": "https://localhost:8080/"
        },
        "id": "HuI6o33C1PiW",
        "outputId": "ff88f877-7de6-4ff9-9b1b-00358d45249a"
      },
      "source": [
        "news = str(input())\n",
        "testing_news = {\"text\":[news]}\n",
        "new_def_test = pd.DataFrame(testing_news)\n",
        "\n",
        "new_x_test = new_def_test[\"text\"]\n",
        "new_xv_test = vectorization.transform(new_x_test)\n",
        "pred_LR = LR.predict(new_xv_test)\n",
        "if pred_LR[0] == 0:\n",
        "  print(\"This news looks fake\")\n",
        "elif pred_LR[0] == 1:\n",
        "  print(\"This news looks real\")"
      ],
      "execution_count": 48,
      "outputs": [
        {
          "output_type": "stream",
          "name": "stdout",
          "text": [
            "Kenya's President Uhuru Kenyatta (front) and his Deputy William Ruto deliver a statement to members of the media at the State House in Nairobi, Kenya September 21, 2017. REUTERS/Baz Ratner NAIROBI (Reuters) - Kenyan opposition leader Raila Odinga withdrew on Tuesday from a court-ordered re-run of the presidential election due on Oct. 26, saying the vote would not be free or fair and leaving President Uhuru Kenyatta as the only candidate.\n",
            "This news looks fake\n"
          ]
        }
      ]
    },
    {
      "cell_type": "code",
      "metadata": {
        "colab": {
          "base_uri": "https://localhost:8080/"
        },
        "id": "L7bjclrb_2dy",
        "outputId": "a175fdd2-de81-42a3-8e73-24d7bfaa18e7"
      },
      "source": [
        "news = str(input())\n",
        "testing_news = {\"text\":[news]}\n",
        "new_def_test = pd.DataFrame(testing_news)\n",
        "\n",
        "new_x_test = new_def_test[\"text\"]\n",
        "new_xv_test = vectorization.transform(new_x_test)\n",
        "pred_LR = LR.predict(new_xv_test)\n",
        "if pred_LR[0] == 0:\n",
        "  print(\"This news looks fake\")\n",
        "elif pred_LR[0] == 1:\n",
        "  print(\"This news looks real\")"
      ],
      "execution_count": 50,
      "outputs": [
        {
          "output_type": "stream",
          "name": "stdout",
          "text": [
            "news = str(input()) testing_news = {\"text\":[news]} new_def_test = pd.DataFrame(testing_news)  new_x_test = new_def_test[\"text\"] new_xv_test = vectorization.transform(new_x_test) pred_LR = LR.predict(new_xv_test) if pred_LR[0] == 0:   print(\"This news looks fake\") elif pred_LR[0] == 1:   print(\"This news looks real\")\n",
            "This news looks fake\n"
          ]
        }
      ]
    }
  ]
}